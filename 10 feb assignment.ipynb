{
 "cells": [
  {
   "cell_type": "markdown",
   "id": "a01a3817",
   "metadata": {},
   "source": [
    "## Q1. Which function is used to open a file? What are the different modes of opening a file? Explain each mode of file opening."
   ]
  },
  {
   "cell_type": "markdown",
   "id": "6ff41ee7",
   "metadata": {},
   "source": [
    "#### In Python, the open() function is used to open a file. The different modes of opening a file are:\n",
    "\n",
    "### 'r': Read mode.It opens the file for reading, and the file pointer is placed at the beginning of the file..\n",
    "### 'w': Write mode. It opens the file for writing. \n",
    "### 'a': Append mode. It opens the file for writing. \n",
    "### 'b': Binary mode. It is used to open a file in binary mode.\n",
    "### 't': Text mode. It is used to open a file in text mode.\n",
    "### 'x': Exclusive creation mode. It creates a new file and opens it for writing.\n",
    "### '+': It opens the file for both reading and writing."
   ]
  },
  {
   "cell_type": "markdown",
   "id": "f56067ab",
   "metadata": {},
   "source": [
    "# Q2. Why close() function is used? Why is it important to close a file?\n",
    "\n",
    "###  The close() function is used to close an opened file. Closing a file is important because:\n",
    "\n",
    "###  It frees up the resources that were tied with the file.\n",
    "### It ensures that all data is written to the file. If a file is not closed, data might not be saved properly.\n",
    "### It allows other programs or processes to access the file. While a file is open, it might be locked and inaccessible to others"
   ]
  },
  {
   "cell_type": "markdown",
   "id": "ed6ced77",
   "metadata": {},
   "source": [
    "# Q3. Write a Python program to create a text file, write 'I want to become a Data Scientist' in that file, then close the file. Open this file and read the content of the file."
   ]
  },
  {
   "cell_type": "code",
   "execution_count": 1,
   "id": "0328dc1f",
   "metadata": {},
   "outputs": [
    {
     "name": "stdout",
     "output_type": "stream",
     "text": [
      "I want to become a Data Scientist\n"
     ]
    }
   ],
   "source": [
    "\n",
    "with open('data_scientist.txt', 'w') as file:\n",
    "    file.write('I want to become a Data Scientist')\n",
    "\n",
    "\n",
    "with open('data_scientist.txt', 'r') as file:\n",
    "    content = file.read()\n",
    "\n",
    "print(content)\n"
   ]
  },
  {
   "cell_type": "markdown",
   "id": "8d506567",
   "metadata": {},
   "source": [
    "# Q4. Explain the following with Python code: read(), readline(), and readlines().\n",
    "#### read(): Reads the entire content of the file.\n",
    "#### readline(): Reads one line at a time from the file.\n",
    "#### readlines(): Reads all lines in the file and returns them as a list of strings."
   ]
  },
  {
   "cell_type": "markdown",
   "id": "c5e00833",
   "metadata": {},
   "source": [
    "with open('example.txt', 'r') as file:\n",
    "    content = file.read()\n",
    "    print(\"Using read():\")\n",
    "    print(content)\n",
    "\n",
    "\n",
    "with open('example.txt', 'r') as file:\n",
    "    print(\"\\nUsing readline():\")\n",
    "    line = file.readline()\n",
    "    while line:\n",
    "        print(line.strip())\n",
    "        line = file.readline()\n",
    "\n",
    "\n",
    "with open('example.txt', 'r') as file:\n",
    "    print(\"\\nUsing readlines():\")\n",
    "    lines = file.readlines()\n",
    "    for line in lines:\n",
    "        print(line.strip())\n"
   ]
  },
  {
   "cell_type": "markdown",
   "id": "d404acaf",
   "metadata": {},
   "source": [
    "# Q5. Explain why the with statement is used with open(). What is the advantage of using the with statement and open() together?"
   ]
  },
  {
   "cell_type": "markdown",
   "id": "56454d52",
   "metadata": {},
   "source": [
    "with open('example.txt', 'r') as file:\n",
    "    content = file.read()\n",
    "    print(content)\n"
   ]
  },
  {
   "cell_type": "markdown",
   "id": "6c35977c",
   "metadata": {},
   "source": [
    "## Q6. Explain the write() and writelines() functions. Give a suitable example.\n",
    "\n",
    "#### write(): Writes a single string to the file.\n",
    "#### writelines(): Writes a list of strings to the file. It does not add newline characters automatically."
   ]
  },
  {
   "cell_type": "markdown",
   "id": "aa146de2",
   "metadata": {},
   "source": [
    "with open('write_example.txt', 'w') as file:\n",
    "    file.write('Hello, world!\\n')\n",
    "    file.write('This is a new line.')\n",
    "\n",
    "\n",
    "lines = ['Line 1\\n', 'Line 2\\n', 'Line 3\\n']\n",
    "with open('writelines_example.txt', 'w') as file:\n",
    "    file.writelines(lines)\n",
    "\n",
    "\n",
    "with open('write_example.txt', 'r') as file:\n",
    "    print(\"write_example.txt content:\")\n",
    "    print(file.read())\n",
    "\n",
    "with open('writelines_example.txt', 'r') as file:\n",
    "    print(\"writelines_example.txt content:\")\n",
    "    print(file.read())\n"
   ]
  }
 ],
 "metadata": {
  "kernelspec": {
   "display_name": "Python 3 (ipykernel)",
   "language": "python",
   "name": "python3"
  },
  "language_info": {
   "codemirror_mode": {
    "name": "ipython",
    "version": 3
   },
   "file_extension": ".py",
   "mimetype": "text/x-python",
   "name": "python",
   "nbconvert_exporter": "python",
   "pygments_lexer": "ipython3",
   "version": "3.10.10"
  }
 },
 "nbformat": 4,
 "nbformat_minor": 5
}
